{
 "cells": [
  {
   "cell_type": "code",
   "execution_count": 1,
   "metadata": {},
   "outputs": [],
   "source": [
    "from pprint import pprint\n",
    "import warnings\n",
    "\n",
    "warnings.filterwarnings('ignore')\n",
    "\n",
    "from nlp import Hear2Learn"
   ]
  },
  {
   "cell_type": "code",
   "execution_count": 2,
   "metadata": {},
   "outputs": [
    {
     "ename": "NameError",
     "evalue": "name 'h2l' is not defined",
     "output_type": "error",
     "traceback": [
      "\u001b[0;31m---------------------------------------------------------------------------\u001b[0m",
      "\u001b[0;31mNameError\u001b[0m                                 Traceback (most recent call last)",
      "Cell \u001b[0;32mIn[2], line 1\u001b[0m\n\u001b[0;32m----> 1\u001b[0m \u001b[43mh2l\u001b[49m\u001b[38;5;241m.\u001b[39mapp\u001b[38;5;241m.\u001b[39mreset()\n",
      "\u001b[0;31mNameError\u001b[0m: name 'h2l' is not defined"
     ]
    }
   ],
   "source": [
    "h2l.app.reset()"
   ]
  },
  {
   "cell_type": "code",
   "execution_count": 3,
   "metadata": {},
   "outputs": [],
   "source": [
    "h2l = Hear2Learn() "
   ]
  },
  {
   "cell_type": "code",
   "execution_count": 4,
   "metadata": {},
   "outputs": [],
   "source": [
    "with open('example_transcript.txt') as f:\n",
    "    text = f.read()\n",
    "summaries = h2l.summarize_text(text)"
   ]
  },
  {
   "cell_type": "code",
   "execution_count": 5,
   "metadata": {},
   "outputs": [
    {
     "name": "stdout",
     "output_type": "stream",
     "text": [
      "[{'points': ['Overlearning is the process of studying something after you can '\n",
      "             'recall it perfectly.',\n",
      "             'It helps in reinforcing memory and makes recall easier during '\n",
      "             'comprehensive finals.',\n",
      "             'Continuing to study a topic after you can recall it perfectly '\n",
      "             'aids in better recall during exams.'],\n",
      "  'topic': 'Overlearning'},\n",
      " {'points': ['Organizing material can enhance recall.',\n",
      "             'Clustering is an example of an organizational strategy where '\n",
      "             'items are grouped based on their type.',\n",
      "             'This makes it easier to recall the items as compared to '\n",
      "             'recalling them in order.',\n",
      "             'Verbal pneumonic techniques are another example of '\n",
      "             'organizational strategy.',\n",
      "             'Acrostics and acronyms are examples of verbal pneumonic '\n",
      "             'techniques.',\n",
      "             'Acrostics involve using phrases where the first letter of each '\n",
      "             'word functions as a cue for recall.',\n",
      "             'Acronyms involve forming a word from the first letters of a '\n",
      "             'series of words.'],\n",
      "  'topic': 'Organization'},\n",
      " {'points': ['The order in which you learn things influences memory.',\n",
      "             'The Serial Position Effect states that recall is better for '\n",
      "             'words at the beginning and end of a list but not in the middle.',\n",
      "             'The Primacy Effect refers to better recall at the beginning of '\n",
      "             'the list.',\n",
      "             'The Recency Effect refers to better recall at the end of the '\n",
      "             'list.',\n",
      "             'The Von Resterhoff Effect states that a surprising or funny word '\n",
      "             'in the middle of a list will be better recalled along with some '\n",
      "             'words around it.'],\n",
      "  'topic': 'Serial Position Effect'},\n",
      " {'points': ['Proactive Interference or Proactive Inhibition is where past '\n",
      "             'learning interferes with the ability to recall new material.',\n",
      "             'An example is learning sociology and then psychology, where '\n",
      "             'sociology interferes with the ability to recall psychology.'],\n",
      "  'topic': 'Proactive Interference'},\n",
      " {'points': ['Retroactive Interference or Retroactive Inhibition is where '\n",
      "             'learning new material interferes with the ability to recall old '\n",
      "             'material.',\n",
      "             'An example is learning psychology and then sociology, where '\n",
      "             'sociology interferes with the ability to recall psychology.'],\n",
      "  'topic': 'Retroactive Interference'},\n",
      " {'points': ['Active participation during the learning cycle increases recall.',\n",
      "             'Quizzing yourself, determining how the material relates to other '\n",
      "             'material, using study guides, and outlining the chapters or '\n",
      "             'notes significantly increase recall of information.'],\n",
      "  'topic': 'Active Participation'},\n",
      " {'points': ['The more similar the recall condition is to the learning '\n",
      "             'condition, the better the recall.',\n",
      "             'The ideal place to study for an exam is where the exam is being '\n",
      "             'held.'],\n",
      "  'topic': 'Similarity of Learning and Recall Condition'},\n",
      " {'points': [\"It's best to recall information in the same drug state as you \"\n",
      "             \"are when you're doing the learning.\",\n",
      "             'If you smoke, you need to smoke while taking your exam.',\n",
      "             \"If you drink coffee or coke while you're studying, you need to \"\n",
      "             'drink coffee or coke while taking the exam.'],\n",
      "  'topic': 'State Dependent Learning'},\n",
      " {'points': ['Test anxiety can interfere with recall during exams.',\n",
      "             'Learning to stay relaxed while taking exams can help improve '\n",
      "             'recall.'],\n",
      "  'topic': 'Test Anxiety'},\n",
      " {'points': ['Spaced practice is better than massed practice (or cramming) for '\n",
      "             'improving recall.',\n",
      "             'Studying over a period of time is more effective than studying '\n",
      "             'all at once.'],\n",
      "  'topic': 'Spaced Practice vs Massed Practice'}]\n"
     ]
    }
   ],
   "source": [
    "pprint(summaries)"
   ]
  },
  {
   "cell_type": "code",
   "execution_count": 7,
   "metadata": {},
   "outputs": [
    {
     "name": "stderr",
     "output_type": "stream",
     "text": [
      "Inserting batches in chromadb:   0%|          | 0/1 [00:00<?, ?it/s]"
     ]
    },
    {
     "name": "stderr",
     "output_type": "stream",
     "text": [
      "Inserting batches in chromadb: 100%|██████████| 1/1 [00:00<00:00,  4.77it/s]\n"
     ]
    }
   ],
   "source": [
    "quiz = h2l.generate_quiz(str(summaries))"
   ]
  },
  {
   "cell_type": "code",
   "execution_count": 12,
   "metadata": {},
   "outputs": [],
   "source": [
    "print(quiz)"
   ]
  },
  {
   "cell_type": "code",
   "execution_count": 14,
   "metadata": {},
   "outputs": [
    {
     "data": {
      "text/plain": [
       "{'question': 'What is the concept of overlearning?',\n",
       " 'options': ['Studying something before you can recall it perfectly.',\n",
       "  'Studying something after you can recall it perfectly.',\n",
       "  'Studying something only once.',\n",
       "  'Studying something randomly.'],\n",
       " 'answer': 'Studying something after you can recall it perfectly.'}"
      ]
     },
     "execution_count": 14,
     "metadata": {},
     "output_type": "execute_result"
    }
   ],
   "source": [
    "temp[0]"
   ]
  }
 ],
 "metadata": {
  "kernelspec": {
   "display_name": "Python 3",
   "language": "python",
   "name": "python3"
  },
  "language_info": {
   "codemirror_mode": {
    "name": "ipython",
    "version": 3
   },
   "file_extension": ".py",
   "mimetype": "text/x-python",
   "name": "python",
   "nbconvert_exporter": "python",
   "pygments_lexer": "ipython3",
   "version": "3.11.9"
  }
 },
 "nbformat": 4,
 "nbformat_minor": 2
}
