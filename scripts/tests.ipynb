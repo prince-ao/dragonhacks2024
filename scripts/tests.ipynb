{
 "cells": [
  {
   "cell_type": "code",
   "execution_count": 1,
   "metadata": {},
   "outputs": [],
   "source": [
    "import os\n",
    "import json\n",
    "import warnings\n",
    "from embedchain import App\n",
    "import whisper\n",
    "warnings.filterwarnings('ignore')\n",
    "\n",
    "from nlp import Hear2Learn"
   ]
  },
  {
   "cell_type": "code",
   "execution_count": 2,
   "metadata": {},
   "outputs": [],
   "source": [
    "h2l = Hear2Learn()"
   ]
  },
  {
   "cell_type": "code",
   "execution_count": 3,
   "metadata": {},
   "outputs": [],
   "source": [
    "with open('example_transcript.txt') as f:\n",
    "    text = f.read()\n",
    "summaries = h2l.summarize_text(text)"
   ]
  },
  {
   "cell_type": "code",
   "execution_count": 6,
   "metadata": {},
   "outputs": [
    {
     "name": "stderr",
     "output_type": "stream",
     "text": [
      "Inserting batches in chromadb: 100%|██████████| 1/1 [00:00<00:00,  4.06it/s]\n"
     ]
    }
   ],
   "source": [
    "quiz = h2l.generate_quiz(str(summaries))"
   ]
  },
  {
   "cell_type": "code",
   "execution_count": null,
   "metadata": {},
   "outputs": [],
   "source": [
    "quiz"
   ]
  },
  {
   "cell_type": "code",
   "execution_count": null,
   "metadata": {},
   "outputs": [],
   "source": [
    "with open('example_transcript.txt') as f:\n",
    "    text = f.read()\n",
    "summary = summarize_text(text)\n",
    "for point in summary.split('\\n'):\n",
    "    print(point)"
   ]
  },
  {
   "cell_type": "code",
   "execution_count": null,
   "metadata": {},
   "outputs": [],
   "source": [
    "d = {}\n",
    "for s in summary.split('Topic: ')[1:]:\n",
    "    topic_summs = s.split('\\n')\n",
    "    topic = topic_summs[0]\n",
    "    points = topic_summs[1:]\n",
    "    d[topic] = [point.strip('-').strip() for point in points if len(point) > 1]"
   ]
  },
  {
   "cell_type": "code",
   "execution_count": null,
   "metadata": {},
   "outputs": [],
   "source": [
    "with open('example_transcript.txt') as f:\n",
    "    text = f.read()\n",
    "with open('../creds.json') as f:\n",
    "        creds = json.load(f)\n",
    "        \n",
    "os.environ[\"HUGGINGFACE_ACCESS_TOKEN\"] = creds['HFTOKEN'] #put your access token here\n",
    "\n",
    "app = App.from_config(config={\n",
    "    \"llm\": {\n",
    "        \"provider\": \"huggingface\",\n",
    "        \"config\": {\n",
    "            \"model\": 'mistralai/Mixtral-8x7B-Instruct-v0.1',\n",
    "            'top_p': 0.95,\n",
    "            'temperature': 0.,\n",
    "        }\n",
    "    },\n",
    "    \"embedder\": {\n",
    "        \"provider\": \"huggingface\",\n",
    "        \"config\": {\n",
    "            \"model\": 'sentence-transformers/all-mpnet-base-v2'\n",
    "        }\n",
    "    }\n",
    "})\n",
    "\n",
    "instruction = \"\"\"\n",
    "    Task: Analyze the input text and identify different topics being discussed. For each topic generate a summary. Generate the summaries as bullet points for each topic. \n",
    "    Generate atleast 5 bullet points and atmax 20 bullet points for each topic summary. \n",
    "    Provide the result in the following format: Topic\\n - bullet point1\\n -bullet point2\\n\"\"\"\n",
    "prompt = f'{instruction}\\n + Text: {text}'\n",
    "answer= app.chat(prompt)\n",
    "summaries = answer.split('Answer')[-1]\n",
    "app.delete_session_chat_history()"
   ]
  },
  {
   "cell_type": "code",
   "execution_count": null,
   "metadata": {},
   "outputs": [],
   "source": [
    "summaries = summaries.strip(':\\n')\n",
    "d = {}\n",
    "for s in summaries.split('Topic: ')[1:]:\n",
    "    topic_summs = s.split('\\n')\n",
    "    topic = topic_summs[0]\n",
    "    points = topic_summs[1:]\n",
    "    d[topic] = [point.strip('-').strip() for point in points if len(point) > 1]"
   ]
  },
  {
   "cell_type": "code",
   "execution_count": null,
   "metadata": {},
   "outputs": [],
   "source": [
    "app.add(str(d))"
   ]
  },
  {
   "cell_type": "code",
   "execution_count": null,
   "metadata": {},
   "outputs": [],
   "source": [
    "quiz_instruction = \"\"\"Generate a quiz with 10 to 15 questions on the topics provided to you. Generate the response in json format\"\"\""
   ]
  },
  {
   "cell_type": "code",
   "execution_count": null,
   "metadata": {},
   "outputs": [],
   "source": [
    "quiz = app.chat(quiz_instruction)"
   ]
  },
  {
   "cell_type": "code",
   "execution_count": null,
   "metadata": {},
   "outputs": [],
   "source": [
    "quiz = quiz.split('Answer')[-1]"
   ]
  },
  {
   "cell_type": "code",
   "execution_count": null,
   "metadata": {},
   "outputs": [],
   "source": [
    "for question in quiz.split('\\n'):\n",
    "    print(question)"
   ]
  }
 ],
 "metadata": {
  "kernelspec": {
   "display_name": "Python 3",
   "language": "python",
   "name": "python3"
  },
  "language_info": {
   "codemirror_mode": {
    "name": "ipython",
    "version": 3
   },
   "file_extension": ".py",
   "mimetype": "text/x-python",
   "name": "python",
   "nbconvert_exporter": "python",
   "pygments_lexer": "ipython3",
   "version": "3.11.9"
  }
 },
 "nbformat": 4,
 "nbformat_minor": 2
}
